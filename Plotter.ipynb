{
 "cells": [
  {
   "cell_type": "code",
   "execution_count": 11,
   "metadata": {},
   "outputs": [],
   "source": [
    "import numpy as np\n",
    "import pandas as pd\n",
    "import chart_studio.plotly as pl\n",
    "import plotly.offline as po\n",
    "import cufflinks as cf"
   ]
  },
  {
   "cell_type": "code",
   "execution_count": 12,
   "metadata": {},
   "outputs": [
    {
     "data": {
      "text/html": [
       "        <script type=\"text/javascript\">\n",
       "        window.PlotlyConfig = {MathJaxConfig: 'local'};\n",
       "        if (window.MathJax) {MathJax.Hub.Config({SVG: {font: \"STIX-Web\"}});}\n",
       "        if (typeof require !== 'undefined') {\n",
       "        require.undef(\"plotly\");\n",
       "        requirejs.config({\n",
       "            paths: {\n",
       "                'plotly': ['https://cdn.plot.ly/plotly-latest.min']\n",
       "            }\n",
       "        });\n",
       "        require(['plotly'], function(Plotly) {\n",
       "            window._Plotly = Plotly;\n",
       "        });\n",
       "        }\n",
       "        </script>\n",
       "        "
      ]
     },
     "metadata": {},
     "output_type": "display_data"
    },
    {
     "data": {
      "text/html": [
       "        <script type=\"text/javascript\">\n",
       "        window.PlotlyConfig = {MathJaxConfig: 'local'};\n",
       "        if (window.MathJax) {MathJax.Hub.Config({SVG: {font: \"STIX-Web\"}});}\n",
       "        if (typeof require !== 'undefined') {\n",
       "        require.undef(\"plotly\");\n",
       "        requirejs.config({\n",
       "            paths: {\n",
       "                'plotly': ['https://cdn.plot.ly/plotly-latest.min']\n",
       "            }\n",
       "        });\n",
       "        require(['plotly'], function(Plotly) {\n",
       "            window._Plotly = Plotly;\n",
       "        });\n",
       "        }\n",
       "        </script>\n",
       "        "
      ]
     },
     "metadata": {},
     "output_type": "display_data"
    }
   ],
   "source": [
    "po.init_notebook_mode(connected = True)\n",
    "cf.go_offline()"
   ]
  },
  {
   "cell_type": "code",
   "execution_count": 3,
   "metadata": {},
   "outputs": [],
   "source": [
    "def createdata(data):\n",
    "    if(data == 1):\n",
    "        x = np.random.rand(100,5)\n",
    "        df1 = pd.DataFrame(x,columns=['A','B','C','D','E'])\n",
    "    elif(data == 2):\n",
    "        x = [0,0,0,0,0]\n",
    "        r1= [0,0,0,0,0]\n",
    "        r2= [0,0,0,0,0]\n",
    "        r3= [0,0,0,0,0]\n",
    "        r4= [0,0,0,0,0]\n",
    "        print('Enter the values for columns')\n",
    "        i=0\n",
    "        for i in [0,1,2,3,4]:\n",
    "            x[i] = input()\n",
    "            i = i + 1\n",
    "        print('Enter the values for first row')\n",
    "        i=0\n",
    "        for i in [0,1,2,3,4]:\n",
    "            r1[i] = int(input())\n",
    "            i = i + 1\n",
    "        print('Enter the values for second row')\n",
    "        i=0\n",
    "        for i in [0,1,2,3,4]:\n",
    "            r2[i] = int(input())\n",
    "            i = i + 1\n",
    "        print('Enter the values for third row')\n",
    "        i=0\n",
    "        for i in [0,1,2,3,4]:\n",
    "            r3[i] = int(input())\n",
    "            i = i + 1\n",
    "        print('Enter the values for fourth row')\n",
    "        i=0\n",
    "        for i in [0,1,2,3,4]:\n",
    "            r4[i] = int(input())\n",
    "            i = i + 1\n",
    "        df1 = pd.DataFrame([r1,r2,r3,r4] , columns = x)\n",
    "    elif(data == 3):\n",
    "        file = input('Enter the file name')\n",
    "        x = pd.read_csv(file)\n",
    "        df1 = pd.DataFrame(x)\n",
    "    else:\n",
    "        print('DataFrame creation failed please enter in between 1 to 3 and try again')\n",
    "    return df1"
   ]
  },
  {
   "cell_type": "code",
   "execution_count": 4,
   "metadata": {},
   "outputs": [],
   "source": [
    "def plotter(plot):\n",
    "    if(plot == 1):\n",
    "        finalplot = df1.iplot(kind='scatter')\n",
    "    elif(plot == 2):\n",
    "        finalplot = df1.iplot(kind='scatter',mode='markers' ,symbol='x',colorscale='paired')\n",
    "    elif(plot == 3):\n",
    "        finalplot = df1.iplot(kind='bar')\n",
    "    elif(plot == 4):\n",
    "        finalplot = df1.iplot(kind='hist')\n",
    "    elif(plot == 5):\n",
    "        finalplot = df1.iplot(kind='box')\n",
    "    elif(plot == 6):\n",
    "        finalplot = df1.iplot(kind='surface')\n",
    "    else:\n",
    "        finalplot = print('Select only between 1 to 7')\n",
    "    return finalplot"
   ]
  },
  {
   "cell_type": "code",
   "execution_count": 5,
   "metadata": {},
   "outputs": [],
   "source": [
    "def plotter2(plot):\n",
    "    col = input('Enter the number of columns you want to plot by selecting only 1 , 2 or 3')\n",
    "    col = int(col)\n",
    "    if(col==1):\n",
    "        colm = input('Enter the column you want to plot by selecting any column from dataframe head')\n",
    "        if(plot==1):\n",
    "            finalplot = df1[colm].iplot(kind='scatter')\n",
    "        elif(plot==2):\n",
    "            finalplot = df1[colm].iplot(kind='scatter' , mode='markers' , symbol='x' ,colorscale='paired')\n",
    "        elif(plot==3):\n",
    "            finalplot = df1[colm].iplot(kind='bar')\n",
    "        elif(plot==4):\n",
    "            finalplot = df1[colm].iplot(kind='hist')\n",
    "        elif(plot==5):\n",
    "            finalplot = df1[colm].iplot(kind='box')\n",
    "        elif(plot==6 or plot==7):\n",
    "            finalplot = print('Bubble plot and surface plot require more than one column arguments')\n",
    "        else:\n",
    "            finalplot = print('Select only between 1 to 7')\n",
    "    elif(col==2):\n",
    "        print('Enter the columns you want to plot by selecting from dataframe head')\n",
    "        x = input('First column')\n",
    "        y = input('Second column')\n",
    "        if(plot==1):\n",
    "            finalplot = df1[[x,y]].iplot(kind='scatter')\n",
    "        elif(plot==2):\n",
    "            finalplot = df1[[x,y]].iplot(kind='scatter' , mode='markers' , symbol='x' ,colorscale='paired')\n",
    "        elif(plot==3):\n",
    "            finalplot = df1[[x,y]].iplot(kind='bar')\n",
    "        elif(plot==4):\n",
    "            finalplot = df1[[x,y]].iplot(kind='hist')\n",
    "        elif(plot==5):\n",
    "            finalplot = df1[[x,y]].iplot(kind='box')\n",
    "        elif(plot==6):\n",
    "            finalplot = df1[[x,y]].iplot(kind='surface')\n",
    "        elif(plot==7):\n",
    "            size = input('Please enter the size column for bubble plot')\n",
    "            finalplot = df1.iplot(kind='bubble' , x=x,y=y,size=size)\n",
    "        else:\n",
    "            finalplot = print('Select only between 1 to 7')\n",
    "    elif(col==3):\n",
    "        print('Enter the columns you want to plot')\n",
    "        x=input('First column')\n",
    "        y=input('Second column')\n",
    "        z=input('Third column')\n",
    "        if(plot==1):\n",
    "            finalplot = df1[[x,y,z]].iplot(kind='scatter')\n",
    "        elif(plot==2):\n",
    "            finalplot = df1[[x,y,z]].iplot(kind='scatter' , mode='markers' , symbol='x' ,colorscale='paired')\n",
    "        elif(plot==3):\n",
    "            finalplot = df1[[x,y,z]].iplot(kind='bar')\n",
    "        elif(plot==4):\n",
    "            finalplot = df1[[x,y,z]].iplot(kind='hist')\n",
    "        elif(plot==5):\n",
    "            finalplot = df1[[x,y,z]].iplot(kind='box')\n",
    "        elif(plot==6):\n",
    "            finalplot = df1[[x,y,z]].iplot(kind='surface')\n",
    "        elif(plot==7):\n",
    "            size = input('Please enter the size column for bubble plot')\n",
    "            finalplot = df1.iplot(kind='bubble' , x=x,y=y,z=z,size=size )\n",
    "        else:\n",
    "            finalplot = print('Select only between 1 to 7')\n",
    "    else:\n",
    "        finalplot = print('Please enter only 1 , 2 or 3')\n",
    "    return finalplot"
   ]
  },
  {
   "cell_type": "code",
   "execution_count": 16,
   "metadata": {},
   "outputs": [],
   "source": [
    "def main(cat):\n",
    "    if(cat == 1):\n",
    "        print('Select the type of plot you need to plot by writing 1 to 6')\n",
    "        print('1.Line plot')\n",
    "        print('2.Scatter plot')\n",
    "        print('3.Bar plot')\n",
    "        print('4.Histogram')\n",
    "        print('5.Box plot')\n",
    "        print('6.Surface plot')\n",
    "        plot = int(input())\n",
    "        plotter(plot)\n",
    "    elif(cat == 2):\n",
    "        print('Select the type of plot you need to plot by writing 1 to 7')\n",
    "        print('1.Line plot')\n",
    "        print('2.Scatter plot')\n",
    "        print('3.Bar plot')\n",
    "        print('4.Histogram')\n",
    "        print('5.Box plot')\n",
    "        print('6.Surface plot')\n",
    "        print('7.Bubble plot')\n",
    "        plot = int(input())\n",
    "        plotter2(plot)\n",
    "    else:\n",
    "        print('Please enter 1 or 2 and try again')"
   ]
  },
  {
   "cell_type": "code",
   "execution_count": 7,
   "metadata": {
    "scrolled": false
   },
   "outputs": [
    {
     "name": "stdout",
     "output_type": "stream",
     "text": [
      "Select the type of data you need to plot(By writing 1,2 or 3)\n",
      "1.Random data with 100 rows and 5 columns\n",
      "2.Customize dataframe with 5 columns and. 4 rows\n",
      "3.Upload csv/json/txt file\n",
      "1\n"
     ]
    }
   ],
   "source": [
    "print('Select the type of data you need to plot(By writing 1,2 or 3)')\n",
    "print('1.Random data with 100 rows and 5 columns')\n",
    "print('2.Customize dataframe with 5 columns and. 4 rows')\n",
    "print('3.Upload csv/json/txt file')\n",
    "data = int(input())\n",
    "df1 = createdata(data)"
   ]
  },
  {
   "cell_type": "code",
   "execution_count": 8,
   "metadata": {},
   "outputs": [
    {
     "name": "stdout",
     "output_type": "stream",
     "text": [
      "Your DataFrame head is given below check the columns to plot using cufflinks\n"
     ]
    },
    {
     "data": {
      "text/html": [
       "<div>\n",
       "<style scoped>\n",
       "    .dataframe tbody tr th:only-of-type {\n",
       "        vertical-align: middle;\n",
       "    }\n",
       "\n",
       "    .dataframe tbody tr th {\n",
       "        vertical-align: top;\n",
       "    }\n",
       "\n",
       "    .dataframe thead th {\n",
       "        text-align: right;\n",
       "    }\n",
       "</style>\n",
       "<table border=\"1\" class=\"dataframe\">\n",
       "  <thead>\n",
       "    <tr style=\"text-align: right;\">\n",
       "      <th></th>\n",
       "      <th>A</th>\n",
       "      <th>B</th>\n",
       "      <th>C</th>\n",
       "      <th>D</th>\n",
       "      <th>E</th>\n",
       "    </tr>\n",
       "  </thead>\n",
       "  <tbody>\n",
       "    <tr>\n",
       "      <th>0</th>\n",
       "      <td>0.366365</td>\n",
       "      <td>0.589963</td>\n",
       "      <td>0.852244</td>\n",
       "      <td>0.890024</td>\n",
       "      <td>0.971843</td>\n",
       "    </tr>\n",
       "    <tr>\n",
       "      <th>1</th>\n",
       "      <td>0.173366</td>\n",
       "      <td>0.917720</td>\n",
       "      <td>0.340592</td>\n",
       "      <td>0.791950</td>\n",
       "      <td>0.198312</td>\n",
       "    </tr>\n",
       "    <tr>\n",
       "      <th>2</th>\n",
       "      <td>0.463646</td>\n",
       "      <td>0.110788</td>\n",
       "      <td>0.767159</td>\n",
       "      <td>0.944043</td>\n",
       "      <td>0.201800</td>\n",
       "    </tr>\n",
       "    <tr>\n",
       "      <th>3</th>\n",
       "      <td>0.642145</td>\n",
       "      <td>0.637943</td>\n",
       "      <td>0.948210</td>\n",
       "      <td>0.735608</td>\n",
       "      <td>0.316851</td>\n",
       "    </tr>\n",
       "    <tr>\n",
       "      <th>4</th>\n",
       "      <td>0.508207</td>\n",
       "      <td>0.767333</td>\n",
       "      <td>0.312578</td>\n",
       "      <td>0.186254</td>\n",
       "      <td>0.122777</td>\n",
       "    </tr>\n",
       "  </tbody>\n",
       "</table>\n",
       "</div>"
      ],
      "text/plain": [
       "          A         B         C         D         E\n",
       "0  0.366365  0.589963  0.852244  0.890024  0.971843\n",
       "1  0.173366  0.917720  0.340592  0.791950  0.198312\n",
       "2  0.463646  0.110788  0.767159  0.944043  0.201800\n",
       "3  0.642145  0.637943  0.948210  0.735608  0.316851\n",
       "4  0.508207  0.767333  0.312578  0.186254  0.122777"
      ]
     },
     "execution_count": 8,
     "metadata": {},
     "output_type": "execute_result"
    }
   ],
   "source": [
    "print('Your DataFrame head is given below check the columns to plot using cufflinks')\n",
    "df1.head()"
   ]
  },
  {
   "cell_type": "code",
   "execution_count": 9,
   "metadata": {},
   "outputs": [
    {
     "name": "stdout",
     "output_type": "stream",
     "text": [
      "What kind of plot you need , the complete data plot or columns plot\n",
      "Press 1 for plotting all columns or press 2 for specifying columns to plot1\n"
     ]
    }
   ],
   "source": [
    "print('What kind of plot you need , the complete data plot or columns plot')\n",
    "cat = int(input('Press 1 for plotting all columns or press 2 for specifying columns to plot'))"
   ]
  },
  {
   "cell_type": "code",
   "execution_count": 17,
   "metadata": {
    "scrolled": false
   },
   "outputs": [
    {
     "name": "stdout",
     "output_type": "stream",
     "text": [
      "Select the type of plot you need to plot by writing 1 to 6\n",
      "1.Line plot\n",
      "2.Scatter plot\n",
      "3.Bar plot\n",
      "4.Histogram\n",
      "5.Box plot\n",
      "6.Surface plot\n",
      "5\n"
     ]
    },
    {
     "data": {
      "application/vnd.plotly.v1+json": {
       "config": {
        "linkText": "Export to plot.ly",
        "plotlyServerURL": "https://plot.ly",
        "showLink": true
       },
       "data": [
        {
         "boxpoints": false,
         "line": {
          "width": 1.3
         },
         "marker": {
          "color": "rgba(255, 153, 51, 1.0)"
         },
         "name": "A",
         "orientation": "v",
         "type": "box",
         "y": [
          0.36636471013568583,
          0.17336557152857723,
          0.4636462848684715,
          0.6421448559514348,
          0.508206909921357,
          0.6971185466101546,
          0.34446309117873375,
          0.7701999434800687,
          0.6949460826551842,
          0.20939717497984434,
          0.22486606347966998,
          0.34321581007293434,
          0.8934165234573311,
          0.3717063298989023,
          0.985161807435064,
          0.01965790934041778,
          0.963398391339158,
          0.9967662815923718,
          0.36802543755396944,
          0.40330021365713375,
          0.71515859674589,
          0.14733236284089224,
          0.9411858146347346,
          0.30183491217131764,
          0.3263017204996047,
          0.5303429157371862,
          0.4111173498366134,
          0.5839792517375993,
          0.9995872643193687,
          0.6108047038842166,
          0.6138210230573605,
          0.8495611191840056,
          0.5893708629417327,
          0.13952674977363366,
          0.5883010035684549,
          0.4689990669291877,
          0.9325247952056679,
          0.42216590141223154,
          0.3042773621036876,
          0.042296572366172014,
          0.1717570568123925,
          0.07732542051257851,
          0.844037045368898,
          0.5617950840419046,
          0.7190675281297543,
          0.2916072479965577,
          0.8868169271506895,
          0.8746186557921591,
          0.1985626524021491,
          0.9377211234234054,
          0.5307172032954819,
          0.6103150199021019,
          0.029035776182453787,
          0.5969750397901618,
          0.5026031058856077,
          0.5073040621531844,
          0.11449381812997705,
          0.6198044213022381,
          0.6508617022415235,
          0.5865844902875432,
          0.29137676111891675,
          0.858147382456388,
          0.7267311793860038,
          0.8258802484891363,
          0.6352208132349871,
          0.9332051934217999,
          0.746069212707493,
          0.11128149807167131,
          0.007547541428271409,
          0.2526180217777718,
          0.36972040472850554,
          0.8672015340824543,
          0.9883764268250353,
          0.002051635986250133,
          0.05806491915441758,
          0.18152860190694964,
          0.23721786622825747,
          0.2333852499542216,
          0.65882263543705,
          0.326600206060942,
          0.6878401245198821,
          0.9202787747812472,
          0.9111454026350475,
          0.1346404452504506,
          0.972819012614259,
          0.8775973623680396,
          0.4906645945112319,
          0.7628863989573673,
          0.3206005115525774,
          0.28075946101747284,
          0.4391235256100172,
          0.1961168334201403,
          0.5330794464278739,
          0.2876726825838135,
          0.07485694096750972,
          0.6282277496003311,
          0.6305819556726039,
          0.43874339526384987,
          0.3421238300686926,
          0.40051467949580144
         ]
        },
        {
         "boxpoints": false,
         "line": {
          "width": 1.3
         },
         "marker": {
          "color": "rgba(55, 128, 191, 1.0)"
         },
         "name": "B",
         "orientation": "v",
         "type": "box",
         "y": [
          0.5899634814747342,
          0.9177204188997141,
          0.11078849700594962,
          0.6379432693693889,
          0.7673329982799163,
          0.5293438922016646,
          0.446419696119974,
          0.8262873056095515,
          0.6156659833258846,
          0.3672029837912947,
          0.19581328731615533,
          0.5752876002569726,
          0.08275276879844962,
          0.9624719124540329,
          0.3026386792984873,
          0.7799351005074646,
          0.370339724680685,
          0.03757997318474493,
          0.055360771798216746,
          0.7244699663859623,
          0.5395725963488179,
          0.2457056311962782,
          0.2748706103703228,
          0.13820715725071653,
          0.46097487954833194,
          0.8194637119132441,
          0.7237848565466837,
          0.42184717430089613,
          0.5707947552677388,
          0.6585454036006074,
          0.687156598087074,
          0.9311085428727961,
          0.591711740688423,
          0.9065077547715875,
          0.8896888190232013,
          0.3484780784276258,
          0.09135543742883423,
          0.8224295906745515,
          0.06937789565968344,
          0.30179116751496615,
          0.9022209089112466,
          0.8189827237029097,
          0.7523419165904446,
          0.5202017144660125,
          0.5506534514024943,
          0.3747459400051011,
          0.7919340076151951,
          0.24933528336237076,
          0.23499432031184242,
          0.28024771585698893,
          0.13167579512910343,
          0.20286382826254978,
          0.9524460566387407,
          0.014232631454886624,
          0.9195058791907289,
          0.7270807462371012,
          0.2583809449012574,
          0.7495152391692718,
          0.3129485854816758,
          0.22806808580209237,
          0.9153925954588383,
          0.2982852475326564,
          0.15501786289399033,
          0.8774362319199904,
          0.5308988641357513,
          0.6112571950373815,
          0.3541508902022388,
          0.8161061598541792,
          0.5906664487788716,
          0.048884098207613635,
          0.10077214135117785,
          0.3983642914662119,
          0.15834923042978122,
          0.6828246979353704,
          0.655595405631049,
          0.1431847492863334,
          0.7721368084613491,
          0.7891940426418027,
          0.34386781489908336,
          0.2655186144916263,
          0.3812336964430868,
          0.7059514509712868,
          0.1142561940623884,
          0.9351609383974341,
          0.9653404244869129,
          0.1842848918578811,
          0.06209339823015947,
          0.1299826075031989,
          0.640475542528966,
          0.9872214244275269,
          0.7378910430708531,
          0.575129100100225,
          0.9434656634299727,
          0.49173771335428607,
          0.016025772775931202,
          0.7268088814891088,
          0.31132157208448674,
          0.9795368379804221,
          0.3436644093716842,
          0.24699257800974617
         ]
        },
        {
         "boxpoints": false,
         "line": {
          "width": 1.3
         },
         "marker": {
          "color": "rgba(50, 171, 96, 1.0)"
         },
         "name": "C",
         "orientation": "v",
         "type": "box",
         "y": [
          0.8522442314115403,
          0.3405920397292125,
          0.7671586604823487,
          0.9482096869942668,
          0.31257812075315616,
          0.2746291328950591,
          0.8133287045014227,
          0.7152945081297403,
          0.6495263260881255,
          0.11774001356457797,
          0.6645769478467352,
          0.8096024788988107,
          0.16107617490915993,
          0.39440808784721926,
          0.9010195800510387,
          0.3542244845300918,
          0.0644387775866413,
          0.10954281276486655,
          0.7594861919363726,
          0.6382723919600218,
          0.9728056558193608,
          0.3077822287976649,
          0.3030888558525626,
          0.06829440611001747,
          0.23239050463922117,
          0.7921845281236577,
          0.21156867644831823,
          0.8527122397350441,
          0.44500049554395216,
          0.8612037942392079,
          0.5941264631018248,
          0.07853066439991674,
          0.756346961034605,
          0.5753927506902702,
          0.5026657122935481,
          0.01865270025395316,
          0.9742140195239374,
          0.3066921442516237,
          0.23831579179334372,
          0.8694527951642296,
          0.4128874522139281,
          0.46093329530446003,
          0.3657979681055332,
          0.9949564127601673,
          0.9678695467997566,
          0.21520884214611258,
          0.4220996738507793,
          0.2427012506344256,
          0.19264839666135647,
          0.9523061437519619,
          0.8600332652019559,
          0.14837232354858687,
          0.9084527471085609,
          0.8303776876410136,
          0.39486554400575957,
          0.9177209053921204,
          0.6835258959207033,
          0.7189644682748919,
          0.48576907654751433,
          0.8496008870656706,
          0.876935453244858,
          0.4479531906345112,
          0.552546240601071,
          0.9650648697252808,
          0.9873692201372951,
          0.297555000723024,
          0.47437949595867124,
          0.8581872849972363,
          0.5256368969430313,
          0.1671690679101676,
          0.6341742818201965,
          0.9473402710005766,
          0.45514145872893075,
          0.25504658587065543,
          0.07179768486530314,
          0.9318129773986868,
          0.12271644825139116,
          0.41427304541937304,
          0.6256206184383687,
          0.5335752886008781,
          0.8574142808471186,
          0.5025410709355563,
          0.40823525286852647,
          0.08043226398349834,
          0.34587416316651276,
          0.26065757090219344,
          0.11111896352804052,
          0.19446670773148134,
          0.19791617793414173,
          0.33947006701214644,
          0.8716017495571505,
          0.6474430734658538,
          0.8818928452533905,
          0.3244784547258358,
          0.4795889676321705,
          0.13839388693659282,
          0.2855597578056993,
          0.864358705531829,
          0.6811621243782252,
          0.9270659402163208
         ]
        },
        {
         "boxpoints": false,
         "line": {
          "width": 1.3
         },
         "marker": {
          "color": "rgba(128, 0, 128, 1.0)"
         },
         "name": "D",
         "orientation": "v",
         "type": "box",
         "y": [
          0.8900243401443189,
          0.7919504462472015,
          0.9440430929945355,
          0.7356075318053834,
          0.1862542547717111,
          0.9217582299396898,
          0.2634697045641554,
          0.3825987550009663,
          0.026125559493569983,
          0.5228724625284452,
          0.27752797817335584,
          0.013837395612781411,
          0.8238730014483078,
          0.9078429451497664,
          0.30751975496462736,
          0.15709345339912228,
          0.5227290348950318,
          0.6702159124374342,
          0.14313234993034518,
          0.37049149930688363,
          0.6189210326240956,
          0.9335270109575012,
          0.864312960947578,
          0.4031426400964836,
          0.3406953210300956,
          0.05736657946803159,
          0.5551983565877515,
          0.1241619942014921,
          0.3717023587942935,
          0.21042965858808893,
          0.8507523677655363,
          0.4477221987064012,
          0.11365285103378842,
          0.6585199750050706,
          0.2295375698164217,
          0.7704049485440644,
          0.7917280607455887,
          0.5334222455571674,
          0.5599400087165811,
          0.5349969820651053,
          0.6151438029173512,
          0.6033717242935688,
          0.25657981176493205,
          0.800381119571352,
          0.11133498599916147,
          0.9210807658095288,
          0.6601967616457619,
          0.347228616007651,
          0.9025515017765338,
          0.6467918022529969,
          0.4446540510299848,
          0.5737962800639187,
          0.3103057512122912,
          0.9985703205081353,
          0.02313274703835888,
          0.841010452685031,
          0.4995562746257729,
          0.15433182196242712,
          0.046158775090007875,
          0.4226262119795221,
          0.18672833879212591,
          0.8331306364532043,
          0.8199731568112649,
          0.41443040025964206,
          0.16189424938623098,
          0.386236812242603,
          0.09001843056918257,
          0.5045008400459937,
          0.3343056960313937,
          0.04142152868379212,
          0.04723114866949096,
          0.88551689534729,
          0.7290331953582161,
          0.8963859615932657,
          0.3593351583421428,
          0.41349326776623996,
          0.39433887954062374,
          0.552404751741229,
          0.6374807290114084,
          0.37082573414247455,
          0.7503805161110882,
          0.6411725742985886,
          0.2035403377962547,
          0.8740481710884145,
          0.1905412739976431,
          0.4279296942753533,
          0.6001550546743138,
          0.07718162316256816,
          0.7351676648495226,
          0.740708664260423,
          0.4686861340785583,
          0.8667654842472751,
          0.6320188292479089,
          0.4897145372456956,
          0.5200531591833628,
          0.8183531230134806,
          0.8002957136021971,
          0.42195034051949043,
          0.1461519286096722,
          0.2459105478992818
         ]
        },
        {
         "boxpoints": false,
         "line": {
          "width": 1.3
         },
         "marker": {
          "color": "rgba(219, 64, 82, 1.0)"
         },
         "name": "E",
         "orientation": "v",
         "type": "box",
         "y": [
          0.9718433845067199,
          0.1983123967292194,
          0.20179962306729715,
          0.316851247830915,
          0.12277738650420966,
          0.9072195608046116,
          0.06006996826098998,
          0.278586801897155,
          0.04399859694258201,
          0.578944784322826,
          0.01654191535959537,
          0.8855964759286473,
          0.2230351400466809,
          0.9968731725138679,
          0.38493383162014794,
          0.42217412385890407,
          0.24641505967912858,
          0.5547814178185523,
          0.3383647797448044,
          0.14545749734864732,
          0.5109767064186443,
          0.3701457041591508,
          0.3371069964001556,
          0.750595474667061,
          0.6038307348903262,
          0.09998655673510104,
          0.5166452818136609,
          0.1282949116062565,
          0.25392404258189405,
          0.8418420721379796,
          0.058533006281911826,
          0.17355688088027177,
          0.2166863010290785,
          0.23672176588707472,
          0.4434131169886507,
          0.8680344455938199,
          0.6210937770668324,
          0.469364884040533,
          0.23734966518554979,
          0.20377825150889461,
          0.6569536140963117,
          0.6882996647570199,
          0.8699651853902924,
          0.2716894864310122,
          0.24307525006116715,
          0.5297802732871381,
          0.08196170412476234,
          0.1074747057062726,
          0.4375837822311155,
          0.1420922326226831,
          0.7867265865234429,
          0.8006015606634219,
          0.04487867248473698,
          0.2755971771348248,
          0.35313393388636816,
          0.22844871392162336,
          0.9884202945716131,
          0.5162054219776054,
          0.0052625407268706015,
          0.38940556603207666,
          0.29358718889154445,
          0.5554925648742876,
          0.2635339085163043,
          0.6304007549672483,
          0.3071449992234011,
          0.9507200455833411,
          0.7824304628295091,
          0.5201880140919295,
          0.3473944512231173,
          0.23126717685625175,
          0.19403846369143796,
          0.8932734778979149,
          0.27426951843393754,
          0.3098115075773127,
          0.5915864047278179,
          0.10236846778720454,
          0.917233270198079,
          0.5497301862367993,
          0.4775921817513954,
          0.981547187586015,
          0.6669522931994406,
          0.6408000219148395,
          0.5361320876406749,
          0.7308889734100628,
          0.22635102743951852,
          0.2289101473505042,
          0.5363948430479724,
          0.9078421052809712,
          0.43852826867661454,
          0.42619288430060576,
          0.3639269751182913,
          0.9326271814334084,
          0.693320805354423,
          0.15842501022951505,
          0.33573528325417556,
          0.8408089454902279,
          0.341382490230303,
          0.26248082000185935,
          0.6176960925823488,
          0.5563546462655692
         ]
        }
       ],
       "layout": {
        "legend": {
         "bgcolor": "#F5F6F9",
         "font": {
          "color": "#4D5663"
         }
        },
        "paper_bgcolor": "#F5F6F9",
        "plot_bgcolor": "#F5F6F9",
        "template": {
         "data": {
          "bar": [
           {
            "error_x": {
             "color": "#2a3f5f"
            },
            "error_y": {
             "color": "#2a3f5f"
            },
            "marker": {
             "line": {
              "color": "#E5ECF6",
              "width": 0.5
             }
            },
            "type": "bar"
           }
          ],
          "barpolar": [
           {
            "marker": {
             "line": {
              "color": "#E5ECF6",
              "width": 0.5
             }
            },
            "type": "barpolar"
           }
          ],
          "carpet": [
           {
            "aaxis": {
             "endlinecolor": "#2a3f5f",
             "gridcolor": "white",
             "linecolor": "white",
             "minorgridcolor": "white",
             "startlinecolor": "#2a3f5f"
            },
            "baxis": {
             "endlinecolor": "#2a3f5f",
             "gridcolor": "white",
             "linecolor": "white",
             "minorgridcolor": "white",
             "startlinecolor": "#2a3f5f"
            },
            "type": "carpet"
           }
          ],
          "choropleth": [
           {
            "colorbar": {
             "outlinewidth": 0,
             "ticks": ""
            },
            "type": "choropleth"
           }
          ],
          "contour": [
           {
            "colorbar": {
             "outlinewidth": 0,
             "ticks": ""
            },
            "colorscale": [
             [
              0,
              "#0d0887"
             ],
             [
              0.1111111111111111,
              "#46039f"
             ],
             [
              0.2222222222222222,
              "#7201a8"
             ],
             [
              0.3333333333333333,
              "#9c179e"
             ],
             [
              0.4444444444444444,
              "#bd3786"
             ],
             [
              0.5555555555555556,
              "#d8576b"
             ],
             [
              0.6666666666666666,
              "#ed7953"
             ],
             [
              0.7777777777777778,
              "#fb9f3a"
             ],
             [
              0.8888888888888888,
              "#fdca26"
             ],
             [
              1,
              "#f0f921"
             ]
            ],
            "type": "contour"
           }
          ],
          "contourcarpet": [
           {
            "colorbar": {
             "outlinewidth": 0,
             "ticks": ""
            },
            "type": "contourcarpet"
           }
          ],
          "heatmap": [
           {
            "colorbar": {
             "outlinewidth": 0,
             "ticks": ""
            },
            "colorscale": [
             [
              0,
              "#0d0887"
             ],
             [
              0.1111111111111111,
              "#46039f"
             ],
             [
              0.2222222222222222,
              "#7201a8"
             ],
             [
              0.3333333333333333,
              "#9c179e"
             ],
             [
              0.4444444444444444,
              "#bd3786"
             ],
             [
              0.5555555555555556,
              "#d8576b"
             ],
             [
              0.6666666666666666,
              "#ed7953"
             ],
             [
              0.7777777777777778,
              "#fb9f3a"
             ],
             [
              0.8888888888888888,
              "#fdca26"
             ],
             [
              1,
              "#f0f921"
             ]
            ],
            "type": "heatmap"
           }
          ],
          "heatmapgl": [
           {
            "colorbar": {
             "outlinewidth": 0,
             "ticks": ""
            },
            "colorscale": [
             [
              0,
              "#0d0887"
             ],
             [
              0.1111111111111111,
              "#46039f"
             ],
             [
              0.2222222222222222,
              "#7201a8"
             ],
             [
              0.3333333333333333,
              "#9c179e"
             ],
             [
              0.4444444444444444,
              "#bd3786"
             ],
             [
              0.5555555555555556,
              "#d8576b"
             ],
             [
              0.6666666666666666,
              "#ed7953"
             ],
             [
              0.7777777777777778,
              "#fb9f3a"
             ],
             [
              0.8888888888888888,
              "#fdca26"
             ],
             [
              1,
              "#f0f921"
             ]
            ],
            "type": "heatmapgl"
           }
          ],
          "histogram": [
           {
            "marker": {
             "colorbar": {
              "outlinewidth": 0,
              "ticks": ""
             }
            },
            "type": "histogram"
           }
          ],
          "histogram2d": [
           {
            "colorbar": {
             "outlinewidth": 0,
             "ticks": ""
            },
            "colorscale": [
             [
              0,
              "#0d0887"
             ],
             [
              0.1111111111111111,
              "#46039f"
             ],
             [
              0.2222222222222222,
              "#7201a8"
             ],
             [
              0.3333333333333333,
              "#9c179e"
             ],
             [
              0.4444444444444444,
              "#bd3786"
             ],
             [
              0.5555555555555556,
              "#d8576b"
             ],
             [
              0.6666666666666666,
              "#ed7953"
             ],
             [
              0.7777777777777778,
              "#fb9f3a"
             ],
             [
              0.8888888888888888,
              "#fdca26"
             ],
             [
              1,
              "#f0f921"
             ]
            ],
            "type": "histogram2d"
           }
          ],
          "histogram2dcontour": [
           {
            "colorbar": {
             "outlinewidth": 0,
             "ticks": ""
            },
            "colorscale": [
             [
              0,
              "#0d0887"
             ],
             [
              0.1111111111111111,
              "#46039f"
             ],
             [
              0.2222222222222222,
              "#7201a8"
             ],
             [
              0.3333333333333333,
              "#9c179e"
             ],
             [
              0.4444444444444444,
              "#bd3786"
             ],
             [
              0.5555555555555556,
              "#d8576b"
             ],
             [
              0.6666666666666666,
              "#ed7953"
             ],
             [
              0.7777777777777778,
              "#fb9f3a"
             ],
             [
              0.8888888888888888,
              "#fdca26"
             ],
             [
              1,
              "#f0f921"
             ]
            ],
            "type": "histogram2dcontour"
           }
          ],
          "mesh3d": [
           {
            "colorbar": {
             "outlinewidth": 0,
             "ticks": ""
            },
            "type": "mesh3d"
           }
          ],
          "parcoords": [
           {
            "line": {
             "colorbar": {
              "outlinewidth": 0,
              "ticks": ""
             }
            },
            "type": "parcoords"
           }
          ],
          "pie": [
           {
            "automargin": true,
            "type": "pie"
           }
          ],
          "scatter": [
           {
            "marker": {
             "colorbar": {
              "outlinewidth": 0,
              "ticks": ""
             }
            },
            "type": "scatter"
           }
          ],
          "scatter3d": [
           {
            "line": {
             "colorbar": {
              "outlinewidth": 0,
              "ticks": ""
             }
            },
            "marker": {
             "colorbar": {
              "outlinewidth": 0,
              "ticks": ""
             }
            },
            "type": "scatter3d"
           }
          ],
          "scattercarpet": [
           {
            "marker": {
             "colorbar": {
              "outlinewidth": 0,
              "ticks": ""
             }
            },
            "type": "scattercarpet"
           }
          ],
          "scattergeo": [
           {
            "marker": {
             "colorbar": {
              "outlinewidth": 0,
              "ticks": ""
             }
            },
            "type": "scattergeo"
           }
          ],
          "scattergl": [
           {
            "marker": {
             "colorbar": {
              "outlinewidth": 0,
              "ticks": ""
             }
            },
            "type": "scattergl"
           }
          ],
          "scattermapbox": [
           {
            "marker": {
             "colorbar": {
              "outlinewidth": 0,
              "ticks": ""
             }
            },
            "type": "scattermapbox"
           }
          ],
          "scatterpolar": [
           {
            "marker": {
             "colorbar": {
              "outlinewidth": 0,
              "ticks": ""
             }
            },
            "type": "scatterpolar"
           }
          ],
          "scatterpolargl": [
           {
            "marker": {
             "colorbar": {
              "outlinewidth": 0,
              "ticks": ""
             }
            },
            "type": "scatterpolargl"
           }
          ],
          "scatterternary": [
           {
            "marker": {
             "colorbar": {
              "outlinewidth": 0,
              "ticks": ""
             }
            },
            "type": "scatterternary"
           }
          ],
          "surface": [
           {
            "colorbar": {
             "outlinewidth": 0,
             "ticks": ""
            },
            "colorscale": [
             [
              0,
              "#0d0887"
             ],
             [
              0.1111111111111111,
              "#46039f"
             ],
             [
              0.2222222222222222,
              "#7201a8"
             ],
             [
              0.3333333333333333,
              "#9c179e"
             ],
             [
              0.4444444444444444,
              "#bd3786"
             ],
             [
              0.5555555555555556,
              "#d8576b"
             ],
             [
              0.6666666666666666,
              "#ed7953"
             ],
             [
              0.7777777777777778,
              "#fb9f3a"
             ],
             [
              0.8888888888888888,
              "#fdca26"
             ],
             [
              1,
              "#f0f921"
             ]
            ],
            "type": "surface"
           }
          ],
          "table": [
           {
            "cells": {
             "fill": {
              "color": "#EBF0F8"
             },
             "line": {
              "color": "white"
             }
            },
            "header": {
             "fill": {
              "color": "#C8D4E3"
             },
             "line": {
              "color": "white"
             }
            },
            "type": "table"
           }
          ]
         },
         "layout": {
          "annotationdefaults": {
           "arrowcolor": "#2a3f5f",
           "arrowhead": 0,
           "arrowwidth": 1
          },
          "autotypenumbers": "strict",
          "coloraxis": {
           "colorbar": {
            "outlinewidth": 0,
            "ticks": ""
           }
          },
          "colorscale": {
           "diverging": [
            [
             0,
             "#8e0152"
            ],
            [
             0.1,
             "#c51b7d"
            ],
            [
             0.2,
             "#de77ae"
            ],
            [
             0.3,
             "#f1b6da"
            ],
            [
             0.4,
             "#fde0ef"
            ],
            [
             0.5,
             "#f7f7f7"
            ],
            [
             0.6,
             "#e6f5d0"
            ],
            [
             0.7,
             "#b8e186"
            ],
            [
             0.8,
             "#7fbc41"
            ],
            [
             0.9,
             "#4d9221"
            ],
            [
             1,
             "#276419"
            ]
           ],
           "sequential": [
            [
             0,
             "#0d0887"
            ],
            [
             0.1111111111111111,
             "#46039f"
            ],
            [
             0.2222222222222222,
             "#7201a8"
            ],
            [
             0.3333333333333333,
             "#9c179e"
            ],
            [
             0.4444444444444444,
             "#bd3786"
            ],
            [
             0.5555555555555556,
             "#d8576b"
            ],
            [
             0.6666666666666666,
             "#ed7953"
            ],
            [
             0.7777777777777778,
             "#fb9f3a"
            ],
            [
             0.8888888888888888,
             "#fdca26"
            ],
            [
             1,
             "#f0f921"
            ]
           ],
           "sequentialminus": [
            [
             0,
             "#0d0887"
            ],
            [
             0.1111111111111111,
             "#46039f"
            ],
            [
             0.2222222222222222,
             "#7201a8"
            ],
            [
             0.3333333333333333,
             "#9c179e"
            ],
            [
             0.4444444444444444,
             "#bd3786"
            ],
            [
             0.5555555555555556,
             "#d8576b"
            ],
            [
             0.6666666666666666,
             "#ed7953"
            ],
            [
             0.7777777777777778,
             "#fb9f3a"
            ],
            [
             0.8888888888888888,
             "#fdca26"
            ],
            [
             1,
             "#f0f921"
            ]
           ]
          },
          "colorway": [
           "#636efa",
           "#EF553B",
           "#00cc96",
           "#ab63fa",
           "#FFA15A",
           "#19d3f3",
           "#FF6692",
           "#B6E880",
           "#FF97FF",
           "#FECB52"
          ],
          "font": {
           "color": "#2a3f5f"
          },
          "geo": {
           "bgcolor": "white",
           "lakecolor": "white",
           "landcolor": "#E5ECF6",
           "showlakes": true,
           "showland": true,
           "subunitcolor": "white"
          },
          "hoverlabel": {
           "align": "left"
          },
          "hovermode": "closest",
          "mapbox": {
           "style": "light"
          },
          "paper_bgcolor": "white",
          "plot_bgcolor": "#E5ECF6",
          "polar": {
           "angularaxis": {
            "gridcolor": "white",
            "linecolor": "white",
            "ticks": ""
           },
           "bgcolor": "#E5ECF6",
           "radialaxis": {
            "gridcolor": "white",
            "linecolor": "white",
            "ticks": ""
           }
          },
          "scene": {
           "xaxis": {
            "backgroundcolor": "#E5ECF6",
            "gridcolor": "white",
            "gridwidth": 2,
            "linecolor": "white",
            "showbackground": true,
            "ticks": "",
            "zerolinecolor": "white"
           },
           "yaxis": {
            "backgroundcolor": "#E5ECF6",
            "gridcolor": "white",
            "gridwidth": 2,
            "linecolor": "white",
            "showbackground": true,
            "ticks": "",
            "zerolinecolor": "white"
           },
           "zaxis": {
            "backgroundcolor": "#E5ECF6",
            "gridcolor": "white",
            "gridwidth": 2,
            "linecolor": "white",
            "showbackground": true,
            "ticks": "",
            "zerolinecolor": "white"
           }
          },
          "shapedefaults": {
           "line": {
            "color": "#2a3f5f"
           }
          },
          "ternary": {
           "aaxis": {
            "gridcolor": "white",
            "linecolor": "white",
            "ticks": ""
           },
           "baxis": {
            "gridcolor": "white",
            "linecolor": "white",
            "ticks": ""
           },
           "bgcolor": "#E5ECF6",
           "caxis": {
            "gridcolor": "white",
            "linecolor": "white",
            "ticks": ""
           }
          },
          "title": {
           "x": 0.05
          },
          "xaxis": {
           "automargin": true,
           "gridcolor": "white",
           "linecolor": "white",
           "ticks": "",
           "title": {
            "standoff": 15
           },
           "zerolinecolor": "white",
           "zerolinewidth": 2
          },
          "yaxis": {
           "automargin": true,
           "gridcolor": "white",
           "linecolor": "white",
           "ticks": "",
           "title": {
            "standoff": 15
           },
           "zerolinecolor": "white",
           "zerolinewidth": 2
          }
         }
        },
        "title": {
         "font": {
          "color": "#4D5663"
         }
        },
        "xaxis": {
         "gridcolor": "#E1E5ED",
         "showgrid": true,
         "tickfont": {
          "color": "#4D5663"
         },
         "title": {
          "font": {
           "color": "#4D5663"
          },
          "text": ""
         },
         "zerolinecolor": "#E1E5ED"
        },
        "yaxis": {
         "gridcolor": "#E1E5ED",
         "showgrid": true,
         "tickfont": {
          "color": "#4D5663"
         },
         "title": {
          "font": {
           "color": "#4D5663"
          },
          "text": ""
         },
         "zerolinecolor": "#E1E5ED"
        }
       }
      },
      "text/html": [
       "<div>                            <div id=\"415bfe44-b233-40f2-934a-d3f5606fc660\" class=\"plotly-graph-div\" style=\"height:525px; width:100%;\"></div>            <script type=\"text/javascript\">                require([\"plotly\"], function(Plotly) {                    window.PLOTLYENV=window.PLOTLYENV || {};\n",
       "                    window.PLOTLYENV.BASE_URL='https://plot.ly';                                    if (document.getElementById(\"415bfe44-b233-40f2-934a-d3f5606fc660\")) {                    Plotly.newPlot(                        \"415bfe44-b233-40f2-934a-d3f5606fc660\",                        [{\"boxpoints\": false, \"line\": {\"width\": 1.3}, \"marker\": {\"color\": \"rgba(255, 153, 51, 1.0)\"}, \"name\": \"A\", \"orientation\": \"v\", \"type\": \"box\", \"y\": [0.36636471013568583, 0.17336557152857723, 0.4636462848684715, 0.6421448559514348, 0.508206909921357, 0.6971185466101546, 0.34446309117873375, 0.7701999434800687, 0.6949460826551842, 0.20939717497984434, 0.22486606347966998, 0.34321581007293434, 0.8934165234573311, 0.3717063298989023, 0.985161807435064, 0.01965790934041778, 0.963398391339158, 0.9967662815923718, 0.36802543755396944, 0.40330021365713375, 0.71515859674589, 0.14733236284089224, 0.9411858146347346, 0.30183491217131764, 0.3263017204996047, 0.5303429157371862, 0.4111173498366134, 0.5839792517375993, 0.9995872643193687, 0.6108047038842166, 0.6138210230573605, 0.8495611191840056, 0.5893708629417327, 0.13952674977363366, 0.5883010035684549, 0.4689990669291877, 0.9325247952056679, 0.42216590141223154, 0.3042773621036876, 0.042296572366172014, 0.1717570568123925, 0.07732542051257851, 0.844037045368898, 0.5617950840419046, 0.7190675281297543, 0.2916072479965577, 0.8868169271506895, 0.8746186557921591, 0.1985626524021491, 0.9377211234234054, 0.5307172032954819, 0.6103150199021019, 0.029035776182453787, 0.5969750397901618, 0.5026031058856077, 0.5073040621531844, 0.11449381812997705, 0.6198044213022381, 0.6508617022415235, 0.5865844902875432, 0.29137676111891675, 0.858147382456388, 0.7267311793860038, 0.8258802484891363, 0.6352208132349871, 0.9332051934217999, 0.746069212707493, 0.11128149807167131, 0.007547541428271409, 0.2526180217777718, 0.36972040472850554, 0.8672015340824543, 0.9883764268250353, 0.002051635986250133, 0.05806491915441758, 0.18152860190694964, 0.23721786622825747, 0.2333852499542216, 0.65882263543705, 0.326600206060942, 0.6878401245198821, 0.9202787747812472, 0.9111454026350475, 0.1346404452504506, 0.972819012614259, 0.8775973623680396, 0.4906645945112319, 0.7628863989573673, 0.3206005115525774, 0.28075946101747284, 0.4391235256100172, 0.1961168334201403, 0.5330794464278739, 0.2876726825838135, 0.07485694096750972, 0.6282277496003311, 0.6305819556726039, 0.43874339526384987, 0.3421238300686926, 0.40051467949580144]}, {\"boxpoints\": false, \"line\": {\"width\": 1.3}, \"marker\": {\"color\": \"rgba(55, 128, 191, 1.0)\"}, \"name\": \"B\", \"orientation\": \"v\", \"type\": \"box\", \"y\": [0.5899634814747342, 0.9177204188997141, 0.11078849700594962, 0.6379432693693889, 0.7673329982799163, 0.5293438922016646, 0.446419696119974, 0.8262873056095515, 0.6156659833258846, 0.3672029837912947, 0.19581328731615533, 0.5752876002569726, 0.08275276879844962, 0.9624719124540329, 0.3026386792984873, 0.7799351005074646, 0.370339724680685, 0.03757997318474493, 0.055360771798216746, 0.7244699663859623, 0.5395725963488179, 0.2457056311962782, 0.2748706103703228, 0.13820715725071653, 0.46097487954833194, 0.8194637119132441, 0.7237848565466837, 0.42184717430089613, 0.5707947552677388, 0.6585454036006074, 0.687156598087074, 0.9311085428727961, 0.591711740688423, 0.9065077547715875, 0.8896888190232013, 0.3484780784276258, 0.09135543742883423, 0.8224295906745515, 0.06937789565968344, 0.30179116751496615, 0.9022209089112466, 0.8189827237029097, 0.7523419165904446, 0.5202017144660125, 0.5506534514024943, 0.3747459400051011, 0.7919340076151951, 0.24933528336237076, 0.23499432031184242, 0.28024771585698893, 0.13167579512910343, 0.20286382826254978, 0.9524460566387407, 0.014232631454886624, 0.9195058791907289, 0.7270807462371012, 0.2583809449012574, 0.7495152391692718, 0.3129485854816758, 0.22806808580209237, 0.9153925954588383, 0.2982852475326564, 0.15501786289399033, 0.8774362319199904, 0.5308988641357513, 0.6112571950373815, 0.3541508902022388, 0.8161061598541792, 0.5906664487788716, 0.048884098207613635, 0.10077214135117785, 0.3983642914662119, 0.15834923042978122, 0.6828246979353704, 0.655595405631049, 0.1431847492863334, 0.7721368084613491, 0.7891940426418027, 0.34386781489908336, 0.2655186144916263, 0.3812336964430868, 0.7059514509712868, 0.1142561940623884, 0.9351609383974341, 0.9653404244869129, 0.1842848918578811, 0.06209339823015947, 0.1299826075031989, 0.640475542528966, 0.9872214244275269, 0.7378910430708531, 0.575129100100225, 0.9434656634299727, 0.49173771335428607, 0.016025772775931202, 0.7268088814891088, 0.31132157208448674, 0.9795368379804221, 0.3436644093716842, 0.24699257800974617]}, {\"boxpoints\": false, \"line\": {\"width\": 1.3}, \"marker\": {\"color\": \"rgba(50, 171, 96, 1.0)\"}, \"name\": \"C\", \"orientation\": \"v\", \"type\": \"box\", \"y\": [0.8522442314115403, 0.3405920397292125, 0.7671586604823487, 0.9482096869942668, 0.31257812075315616, 0.2746291328950591, 0.8133287045014227, 0.7152945081297403, 0.6495263260881255, 0.11774001356457797, 0.6645769478467352, 0.8096024788988107, 0.16107617490915993, 0.39440808784721926, 0.9010195800510387, 0.3542244845300918, 0.0644387775866413, 0.10954281276486655, 0.7594861919363726, 0.6382723919600218, 0.9728056558193608, 0.3077822287976649, 0.3030888558525626, 0.06829440611001747, 0.23239050463922117, 0.7921845281236577, 0.21156867644831823, 0.8527122397350441, 0.44500049554395216, 0.8612037942392079, 0.5941264631018248, 0.07853066439991674, 0.756346961034605, 0.5753927506902702, 0.5026657122935481, 0.01865270025395316, 0.9742140195239374, 0.3066921442516237, 0.23831579179334372, 0.8694527951642296, 0.4128874522139281, 0.46093329530446003, 0.3657979681055332, 0.9949564127601673, 0.9678695467997566, 0.21520884214611258, 0.4220996738507793, 0.2427012506344256, 0.19264839666135647, 0.9523061437519619, 0.8600332652019559, 0.14837232354858687, 0.9084527471085609, 0.8303776876410136, 0.39486554400575957, 0.9177209053921204, 0.6835258959207033, 0.7189644682748919, 0.48576907654751433, 0.8496008870656706, 0.876935453244858, 0.4479531906345112, 0.552546240601071, 0.9650648697252808, 0.9873692201372951, 0.297555000723024, 0.47437949595867124, 0.8581872849972363, 0.5256368969430313, 0.1671690679101676, 0.6341742818201965, 0.9473402710005766, 0.45514145872893075, 0.25504658587065543, 0.07179768486530314, 0.9318129773986868, 0.12271644825139116, 0.41427304541937304, 0.6256206184383687, 0.5335752886008781, 0.8574142808471186, 0.5025410709355563, 0.40823525286852647, 0.08043226398349834, 0.34587416316651276, 0.26065757090219344, 0.11111896352804052, 0.19446670773148134, 0.19791617793414173, 0.33947006701214644, 0.8716017495571505, 0.6474430734658538, 0.8818928452533905, 0.3244784547258358, 0.4795889676321705, 0.13839388693659282, 0.2855597578056993, 0.864358705531829, 0.6811621243782252, 0.9270659402163208]}, {\"boxpoints\": false, \"line\": {\"width\": 1.3}, \"marker\": {\"color\": \"rgba(128, 0, 128, 1.0)\"}, \"name\": \"D\", \"orientation\": \"v\", \"type\": \"box\", \"y\": [0.8900243401443189, 0.7919504462472015, 0.9440430929945355, 0.7356075318053834, 0.1862542547717111, 0.9217582299396898, 0.2634697045641554, 0.3825987550009663, 0.026125559493569983, 0.5228724625284452, 0.27752797817335584, 0.013837395612781411, 0.8238730014483078, 0.9078429451497664, 0.30751975496462736, 0.15709345339912228, 0.5227290348950318, 0.6702159124374342, 0.14313234993034518, 0.37049149930688363, 0.6189210326240956, 0.9335270109575012, 0.864312960947578, 0.4031426400964836, 0.3406953210300956, 0.05736657946803159, 0.5551983565877515, 0.1241619942014921, 0.3717023587942935, 0.21042965858808893, 0.8507523677655363, 0.4477221987064012, 0.11365285103378842, 0.6585199750050706, 0.2295375698164217, 0.7704049485440644, 0.7917280607455887, 0.5334222455571674, 0.5599400087165811, 0.5349969820651053, 0.6151438029173512, 0.6033717242935688, 0.25657981176493205, 0.800381119571352, 0.11133498599916147, 0.9210807658095288, 0.6601967616457619, 0.347228616007651, 0.9025515017765338, 0.6467918022529969, 0.4446540510299848, 0.5737962800639187, 0.3103057512122912, 0.9985703205081353, 0.02313274703835888, 0.841010452685031, 0.4995562746257729, 0.15433182196242712, 0.046158775090007875, 0.4226262119795221, 0.18672833879212591, 0.8331306364532043, 0.8199731568112649, 0.41443040025964206, 0.16189424938623098, 0.386236812242603, 0.09001843056918257, 0.5045008400459937, 0.3343056960313937, 0.04142152868379212, 0.04723114866949096, 0.88551689534729, 0.7290331953582161, 0.8963859615932657, 0.3593351583421428, 0.41349326776623996, 0.39433887954062374, 0.552404751741229, 0.6374807290114084, 0.37082573414247455, 0.7503805161110882, 0.6411725742985886, 0.2035403377962547, 0.8740481710884145, 0.1905412739976431, 0.4279296942753533, 0.6001550546743138, 0.07718162316256816, 0.7351676648495226, 0.740708664260423, 0.4686861340785583, 0.8667654842472751, 0.6320188292479089, 0.4897145372456956, 0.5200531591833628, 0.8183531230134806, 0.8002957136021971, 0.42195034051949043, 0.1461519286096722, 0.2459105478992818]}, {\"boxpoints\": false, \"line\": {\"width\": 1.3}, \"marker\": {\"color\": \"rgba(219, 64, 82, 1.0)\"}, \"name\": \"E\", \"orientation\": \"v\", \"type\": \"box\", \"y\": [0.9718433845067199, 0.1983123967292194, 0.20179962306729715, 0.316851247830915, 0.12277738650420966, 0.9072195608046116, 0.06006996826098998, 0.278586801897155, 0.04399859694258201, 0.578944784322826, 0.01654191535959537, 0.8855964759286473, 0.2230351400466809, 0.9968731725138679, 0.38493383162014794, 0.42217412385890407, 0.24641505967912858, 0.5547814178185523, 0.3383647797448044, 0.14545749734864732, 0.5109767064186443, 0.3701457041591508, 0.3371069964001556, 0.750595474667061, 0.6038307348903262, 0.09998655673510104, 0.5166452818136609, 0.1282949116062565, 0.25392404258189405, 0.8418420721379796, 0.058533006281911826, 0.17355688088027177, 0.2166863010290785, 0.23672176588707472, 0.4434131169886507, 0.8680344455938199, 0.6210937770668324, 0.469364884040533, 0.23734966518554979, 0.20377825150889461, 0.6569536140963117, 0.6882996647570199, 0.8699651853902924, 0.2716894864310122, 0.24307525006116715, 0.5297802732871381, 0.08196170412476234, 0.1074747057062726, 0.4375837822311155, 0.1420922326226831, 0.7867265865234429, 0.8006015606634219, 0.04487867248473698, 0.2755971771348248, 0.35313393388636816, 0.22844871392162336, 0.9884202945716131, 0.5162054219776054, 0.0052625407268706015, 0.38940556603207666, 0.29358718889154445, 0.5554925648742876, 0.2635339085163043, 0.6304007549672483, 0.3071449992234011, 0.9507200455833411, 0.7824304628295091, 0.5201880140919295, 0.3473944512231173, 0.23126717685625175, 0.19403846369143796, 0.8932734778979149, 0.27426951843393754, 0.3098115075773127, 0.5915864047278179, 0.10236846778720454, 0.917233270198079, 0.5497301862367993, 0.4775921817513954, 0.981547187586015, 0.6669522931994406, 0.6408000219148395, 0.5361320876406749, 0.7308889734100628, 0.22635102743951852, 0.2289101473505042, 0.5363948430479724, 0.9078421052809712, 0.43852826867661454, 0.42619288430060576, 0.3639269751182913, 0.9326271814334084, 0.693320805354423, 0.15842501022951505, 0.33573528325417556, 0.8408089454902279, 0.341382490230303, 0.26248082000185935, 0.6176960925823488, 0.5563546462655692]}],                        {\"legend\": {\"bgcolor\": \"#F5F6F9\", \"font\": {\"color\": \"#4D5663\"}}, \"paper_bgcolor\": \"#F5F6F9\", \"plot_bgcolor\": \"#F5F6F9\", \"template\": {\"data\": {\"bar\": [{\"error_x\": {\"color\": \"#2a3f5f\"}, \"error_y\": {\"color\": \"#2a3f5f\"}, \"marker\": {\"line\": {\"color\": \"#E5ECF6\", \"width\": 0.5}}, \"type\": \"bar\"}], \"barpolar\": [{\"marker\": {\"line\": {\"color\": \"#E5ECF6\", \"width\": 0.5}}, \"type\": \"barpolar\"}], \"carpet\": [{\"aaxis\": {\"endlinecolor\": \"#2a3f5f\", \"gridcolor\": \"white\", \"linecolor\": \"white\", \"minorgridcolor\": \"white\", \"startlinecolor\": \"#2a3f5f\"}, \"baxis\": {\"endlinecolor\": \"#2a3f5f\", \"gridcolor\": \"white\", \"linecolor\": \"white\", \"minorgridcolor\": \"white\", \"startlinecolor\": \"#2a3f5f\"}, \"type\": \"carpet\"}], \"choropleth\": [{\"colorbar\": {\"outlinewidth\": 0, \"ticks\": \"\"}, \"type\": \"choropleth\"}], \"contour\": [{\"colorbar\": {\"outlinewidth\": 0, \"ticks\": \"\"}, \"colorscale\": [[0.0, \"#0d0887\"], [0.1111111111111111, \"#46039f\"], [0.2222222222222222, \"#7201a8\"], [0.3333333333333333, \"#9c179e\"], [0.4444444444444444, \"#bd3786\"], [0.5555555555555556, \"#d8576b\"], [0.6666666666666666, \"#ed7953\"], [0.7777777777777778, \"#fb9f3a\"], [0.8888888888888888, \"#fdca26\"], [1.0, \"#f0f921\"]], \"type\": \"contour\"}], \"contourcarpet\": [{\"colorbar\": {\"outlinewidth\": 0, \"ticks\": \"\"}, \"type\": \"contourcarpet\"}], \"heatmap\": [{\"colorbar\": {\"outlinewidth\": 0, \"ticks\": \"\"}, \"colorscale\": [[0.0, \"#0d0887\"], [0.1111111111111111, \"#46039f\"], [0.2222222222222222, \"#7201a8\"], [0.3333333333333333, \"#9c179e\"], [0.4444444444444444, \"#bd3786\"], [0.5555555555555556, \"#d8576b\"], [0.6666666666666666, \"#ed7953\"], [0.7777777777777778, \"#fb9f3a\"], [0.8888888888888888, \"#fdca26\"], [1.0, \"#f0f921\"]], \"type\": \"heatmap\"}], \"heatmapgl\": [{\"colorbar\": {\"outlinewidth\": 0, \"ticks\": \"\"}, \"colorscale\": [[0.0, \"#0d0887\"], [0.1111111111111111, \"#46039f\"], [0.2222222222222222, \"#7201a8\"], [0.3333333333333333, \"#9c179e\"], [0.4444444444444444, \"#bd3786\"], [0.5555555555555556, \"#d8576b\"], [0.6666666666666666, \"#ed7953\"], [0.7777777777777778, \"#fb9f3a\"], [0.8888888888888888, \"#fdca26\"], [1.0, \"#f0f921\"]], \"type\": \"heatmapgl\"}], \"histogram\": [{\"marker\": {\"colorbar\": {\"outlinewidth\": 0, \"ticks\": \"\"}}, \"type\": \"histogram\"}], \"histogram2d\": [{\"colorbar\": {\"outlinewidth\": 0, \"ticks\": \"\"}, \"colorscale\": [[0.0, \"#0d0887\"], [0.1111111111111111, \"#46039f\"], [0.2222222222222222, \"#7201a8\"], [0.3333333333333333, \"#9c179e\"], [0.4444444444444444, \"#bd3786\"], [0.5555555555555556, \"#d8576b\"], [0.6666666666666666, \"#ed7953\"], [0.7777777777777778, \"#fb9f3a\"], [0.8888888888888888, \"#fdca26\"], [1.0, \"#f0f921\"]], \"type\": \"histogram2d\"}], \"histogram2dcontour\": [{\"colorbar\": {\"outlinewidth\": 0, \"ticks\": \"\"}, \"colorscale\": [[0.0, \"#0d0887\"], [0.1111111111111111, \"#46039f\"], [0.2222222222222222, \"#7201a8\"], [0.3333333333333333, \"#9c179e\"], [0.4444444444444444, \"#bd3786\"], [0.5555555555555556, \"#d8576b\"], [0.6666666666666666, \"#ed7953\"], [0.7777777777777778, \"#fb9f3a\"], [0.8888888888888888, \"#fdca26\"], [1.0, \"#f0f921\"]], \"type\": \"histogram2dcontour\"}], \"mesh3d\": [{\"colorbar\": {\"outlinewidth\": 0, \"ticks\": \"\"}, \"type\": \"mesh3d\"}], \"parcoords\": [{\"line\": {\"colorbar\": {\"outlinewidth\": 0, \"ticks\": \"\"}}, \"type\": \"parcoords\"}], \"pie\": [{\"automargin\": true, \"type\": \"pie\"}], \"scatter\": [{\"marker\": {\"colorbar\": {\"outlinewidth\": 0, \"ticks\": \"\"}}, \"type\": \"scatter\"}], \"scatter3d\": [{\"line\": {\"colorbar\": {\"outlinewidth\": 0, \"ticks\": \"\"}}, \"marker\": {\"colorbar\": {\"outlinewidth\": 0, \"ticks\": \"\"}}, \"type\": \"scatter3d\"}], \"scattercarpet\": [{\"marker\": {\"colorbar\": {\"outlinewidth\": 0, \"ticks\": \"\"}}, \"type\": \"scattercarpet\"}], \"scattergeo\": [{\"marker\": {\"colorbar\": {\"outlinewidth\": 0, \"ticks\": \"\"}}, \"type\": \"scattergeo\"}], \"scattergl\": [{\"marker\": {\"colorbar\": {\"outlinewidth\": 0, \"ticks\": \"\"}}, \"type\": \"scattergl\"}], \"scattermapbox\": [{\"marker\": {\"colorbar\": {\"outlinewidth\": 0, \"ticks\": \"\"}}, \"type\": \"scattermapbox\"}], \"scatterpolar\": [{\"marker\": {\"colorbar\": {\"outlinewidth\": 0, \"ticks\": \"\"}}, \"type\": \"scatterpolar\"}], \"scatterpolargl\": [{\"marker\": {\"colorbar\": {\"outlinewidth\": 0, \"ticks\": \"\"}}, \"type\": \"scatterpolargl\"}], \"scatterternary\": [{\"marker\": {\"colorbar\": {\"outlinewidth\": 0, \"ticks\": \"\"}}, \"type\": \"scatterternary\"}], \"surface\": [{\"colorbar\": {\"outlinewidth\": 0, \"ticks\": \"\"}, \"colorscale\": [[0.0, \"#0d0887\"], [0.1111111111111111, \"#46039f\"], [0.2222222222222222, \"#7201a8\"], [0.3333333333333333, \"#9c179e\"], [0.4444444444444444, \"#bd3786\"], [0.5555555555555556, \"#d8576b\"], [0.6666666666666666, \"#ed7953\"], [0.7777777777777778, \"#fb9f3a\"], [0.8888888888888888, \"#fdca26\"], [1.0, \"#f0f921\"]], \"type\": \"surface\"}], \"table\": [{\"cells\": {\"fill\": {\"color\": \"#EBF0F8\"}, \"line\": {\"color\": \"white\"}}, \"header\": {\"fill\": {\"color\": \"#C8D4E3\"}, \"line\": {\"color\": \"white\"}}, \"type\": \"table\"}]}, \"layout\": {\"annotationdefaults\": {\"arrowcolor\": \"#2a3f5f\", \"arrowhead\": 0, \"arrowwidth\": 1}, \"autotypenumbers\": \"strict\", \"coloraxis\": {\"colorbar\": {\"outlinewidth\": 0, \"ticks\": \"\"}}, \"colorscale\": {\"diverging\": [[0, \"#8e0152\"], [0.1, \"#c51b7d\"], [0.2, \"#de77ae\"], [0.3, \"#f1b6da\"], [0.4, \"#fde0ef\"], [0.5, \"#f7f7f7\"], [0.6, \"#e6f5d0\"], [0.7, \"#b8e186\"], [0.8, \"#7fbc41\"], [0.9, \"#4d9221\"], [1, \"#276419\"]], \"sequential\": [[0.0, \"#0d0887\"], [0.1111111111111111, \"#46039f\"], [0.2222222222222222, \"#7201a8\"], [0.3333333333333333, \"#9c179e\"], [0.4444444444444444, \"#bd3786\"], [0.5555555555555556, \"#d8576b\"], [0.6666666666666666, \"#ed7953\"], [0.7777777777777778, \"#fb9f3a\"], [0.8888888888888888, \"#fdca26\"], [1.0, \"#f0f921\"]], \"sequentialminus\": [[0.0, \"#0d0887\"], [0.1111111111111111, \"#46039f\"], [0.2222222222222222, \"#7201a8\"], [0.3333333333333333, \"#9c179e\"], [0.4444444444444444, \"#bd3786\"], [0.5555555555555556, \"#d8576b\"], [0.6666666666666666, \"#ed7953\"], [0.7777777777777778, \"#fb9f3a\"], [0.8888888888888888, \"#fdca26\"], [1.0, \"#f0f921\"]]}, \"colorway\": [\"#636efa\", \"#EF553B\", \"#00cc96\", \"#ab63fa\", \"#FFA15A\", \"#19d3f3\", \"#FF6692\", \"#B6E880\", \"#FF97FF\", \"#FECB52\"], \"font\": {\"color\": \"#2a3f5f\"}, \"geo\": {\"bgcolor\": \"white\", \"lakecolor\": \"white\", \"landcolor\": \"#E5ECF6\", \"showlakes\": true, \"showland\": true, \"subunitcolor\": \"white\"}, \"hoverlabel\": {\"align\": \"left\"}, \"hovermode\": \"closest\", \"mapbox\": {\"style\": \"light\"}, \"paper_bgcolor\": \"white\", \"plot_bgcolor\": \"#E5ECF6\", \"polar\": {\"angularaxis\": {\"gridcolor\": \"white\", \"linecolor\": \"white\", \"ticks\": \"\"}, \"bgcolor\": \"#E5ECF6\", \"radialaxis\": {\"gridcolor\": \"white\", \"linecolor\": \"white\", \"ticks\": \"\"}}, \"scene\": {\"xaxis\": {\"backgroundcolor\": \"#E5ECF6\", \"gridcolor\": \"white\", \"gridwidth\": 2, \"linecolor\": \"white\", \"showbackground\": true, \"ticks\": \"\", \"zerolinecolor\": \"white\"}, \"yaxis\": {\"backgroundcolor\": \"#E5ECF6\", \"gridcolor\": \"white\", \"gridwidth\": 2, \"linecolor\": \"white\", \"showbackground\": true, \"ticks\": \"\", \"zerolinecolor\": \"white\"}, \"zaxis\": {\"backgroundcolor\": \"#E5ECF6\", \"gridcolor\": \"white\", \"gridwidth\": 2, \"linecolor\": \"white\", \"showbackground\": true, \"ticks\": \"\", \"zerolinecolor\": \"white\"}}, \"shapedefaults\": {\"line\": {\"color\": \"#2a3f5f\"}}, \"ternary\": {\"aaxis\": {\"gridcolor\": \"white\", \"linecolor\": \"white\", \"ticks\": \"\"}, \"baxis\": {\"gridcolor\": \"white\", \"linecolor\": \"white\", \"ticks\": \"\"}, \"bgcolor\": \"#E5ECF6\", \"caxis\": {\"gridcolor\": \"white\", \"linecolor\": \"white\", \"ticks\": \"\"}}, \"title\": {\"x\": 0.05}, \"xaxis\": {\"automargin\": true, \"gridcolor\": \"white\", \"linecolor\": \"white\", \"ticks\": \"\", \"title\": {\"standoff\": 15}, \"zerolinecolor\": \"white\", \"zerolinewidth\": 2}, \"yaxis\": {\"automargin\": true, \"gridcolor\": \"white\", \"linecolor\": \"white\", \"ticks\": \"\", \"title\": {\"standoff\": 15}, \"zerolinecolor\": \"white\", \"zerolinewidth\": 2}}}, \"title\": {\"font\": {\"color\": \"#4D5663\"}}, \"xaxis\": {\"gridcolor\": \"#E1E5ED\", \"showgrid\": true, \"tickfont\": {\"color\": \"#4D5663\"}, \"title\": {\"font\": {\"color\": \"#4D5663\"}, \"text\": \"\"}, \"zerolinecolor\": \"#E1E5ED\"}, \"yaxis\": {\"gridcolor\": \"#E1E5ED\", \"showgrid\": true, \"tickfont\": {\"color\": \"#4D5663\"}, \"title\": {\"font\": {\"color\": \"#4D5663\"}, \"text\": \"\"}, \"zerolinecolor\": \"#E1E5ED\"}},                        {\"showLink\": true, \"linkText\": \"Export to plot.ly\", \"plotlyServerURL\": \"https://plot.ly\", \"responsive\": true}                    ).then(function(){\n",
       "                            \n",
       "var gd = document.getElementById('415bfe44-b233-40f2-934a-d3f5606fc660');\n",
       "var x = new MutationObserver(function (mutations, observer) {{\n",
       "        var display = window.getComputedStyle(gd).display;\n",
       "        if (!display || display === 'none') {{\n",
       "            console.log([gd, 'removed!']);\n",
       "            Plotly.purge(gd);\n",
       "            observer.disconnect();\n",
       "        }}\n",
       "}});\n",
       "\n",
       "// Listen for the removal of the full notebook cells\n",
       "var notebookContainer = gd.closest('#notebook-container');\n",
       "if (notebookContainer) {{\n",
       "    x.observe(notebookContainer, {childList: true});\n",
       "}}\n",
       "\n",
       "// Listen for the clearing of the current output cell\n",
       "var outputEl = gd.closest('.output');\n",
       "if (outputEl) {{\n",
       "    x.observe(outputEl, {childList: true});\n",
       "}}\n",
       "\n",
       "                        })                };                });            </script>        </div>"
      ]
     },
     "metadata": {},
     "output_type": "display_data"
    }
   ],
   "source": [
    "main(cat)"
   ]
  },
  {
   "cell_type": "code",
   "execution_count": null,
   "metadata": {},
   "outputs": [],
   "source": []
  }
 ],
 "metadata": {
  "kernelspec": {
   "display_name": "Python 3",
   "language": "python",
   "name": "python3"
  },
  "language_info": {
   "codemirror_mode": {
    "name": "ipython",
    "version": 3
   },
   "file_extension": ".py",
   "mimetype": "text/x-python",
   "name": "python",
   "nbconvert_exporter": "python",
   "pygments_lexer": "ipython3",
   "version": "3.8.8"
  }
 },
 "nbformat": 4,
 "nbformat_minor": 2
}
